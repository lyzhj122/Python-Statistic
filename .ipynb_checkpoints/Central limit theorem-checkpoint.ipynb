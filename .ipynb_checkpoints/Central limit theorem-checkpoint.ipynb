{
 "cells": [
  {
   "cell_type": "markdown",
   "metadata": {},
   "source": [
    "*This demo shows Central limit theorem\n",
    "\n",
    "In probability theory, the central limit theorem (CLT) establishes that, in some situations, when independent random variables are added, their properly normalized sum tends toward a normal distribution (informally a \"bell curve\") even if the original variables themselves are not normally distributed. The theorem is a key (\"central\") concept in probability theory because it implies that probabilistic and statistical methods that work for normal distributions can be applicable to many problems involving other types of distributions.\n",
    "\n",
    "url = \"https://en.wikipedia.org/wiki/Central_limit_theorem\"\n"
   ]
  },
  {
   "cell_type": "code",
   "execution_count": 2,
   "metadata": {},
   "outputs": [],
   "source": [
    "import numpy as np\n",
    "import pandas as pd\n",
    "from matplotlib import pyplot as plt\n",
    "from scipy import stats\n",
    "import ipywidgets as widgets\n",
    "\n",
    "from IPython.display import clear_output\n",
    "from ipywidgets import interactive\n",
    "from ipywidgets import IntSlider, Output\n",
    "from IPython.display import display\n",
    "from ipywidgets import Layout\n",
    "\n",
    "%matplotlib inline"
   ]
  },
  {
   "cell_type": "code",
   "execution_count": 17,
   "metadata": {},
   "outputs": [
    {
     "data": {
      "application/vnd.jupyter.widget-view+json": {
       "model_id": "495bed48905e4921ac64e0dcbe8b341d",
       "version_major": 2,
       "version_minor": 0
      },
      "text/plain": [
       "VBox(children=(HBox(children=(IntSlider(value=5, description='Sample Size:', min=5, step=5), IntSlider(value=1…"
      ]
     },
     "metadata": {},
     "output_type": "display_data"
    }
   ],
   "source": [
    "plt.ioff()\n",
    "\n",
    "button = widgets.Button(description=\"Generating!\")\n",
    "#sample size, slider \n",
    "sample_size_slide  = widgets.IntSlider(value=5,min=5,max=100,step=5,description=\"Sample Size:\",disable=False)\n",
    "#samele set quantity, slider\n",
    "sample_set_slide  = widgets.IntSlider(value=10,min=10,max=1000000,step=100,description=\"Sample Set Qty:\",disable=False)\n",
    "\n",
    "#set output area to refrest\n",
    "mean_out = widgets.Output(layout=Layout(height='300px', width = '500px',border='solid'))\n",
    "std_out  = widgets.Output(layout=Layout(height='300px', width = '500px',border='solid'))\n",
    "\n",
    "vbox1 = widgets.HBox(children=(sample_size_slide,sample_set_slide,button))\n",
    "vbox2 = widgets.HBox(children=(mean_out,std_out))\n",
    "vbox3 = widgets.VBox(children=(vbox1,vbox2))\n",
    "display(vbox3)\n",
    "\n",
    "fig1,ax1 = plt.subplots(figsize=(16,8),constrained_layout=True)\n",
    "fig2,ax2 = plt.subplots(figsize=(16,8),constrained_layout=True)\n",
    "\n",
    "def on_click_plot(n):   \n",
    "\n",
    "    ax1.clear()\n",
    "    ax2.clear()\n",
    "    s_size = sample_size_slide.value\n",
    "    s_set  = sample_set_slide.value\n",
    "    sample = np.random.randint(1,30,(s_set,s_size))\n",
    "    # Get the mean of each sample set\n",
    "    sample_mean = np.mean(sample,axis=1)\n",
    "    sample_std  = np.std(sample,axis=1)\n",
    "\n",
    "    #get the unique array and each number occurrence, return ndarray\n",
    "    mean_number, mean_occurrence = np.unique(sample_mean,return_counts=True)\n",
    "    std_number, std_occurrence = np.unique(sample_std,return_counts=True)\n",
    "    #plot by assorted color\n",
    "    colors_mean = np.random.rand(mean_number.shape[0])\n",
    "    colors_std  = np.random.rand(std_number.shape[0])\n",
    "    #plot the scatter\n",
    "    #coordinates: x - the mean number without repeat, y - the occurence of each unique mean\n",
    "\n",
    "    #plot mean distribution\n",
    "    ax1.set_title('Central Limit Theorem - Mean')\n",
    "    ax1.scatter(mean_number,mean_occurrence,c=colors_mean,alpha=0.6,marker='o')\n",
    "    #plot std distribution\n",
    "    ax2.set_title('Central Limit Theorem - Standard Divation')\n",
    "    ax2.scatter(std_number,std_occurrence,c=colors_std,alpha=0.6,marker='o')\n",
    "\n",
    "    with mean_out:\n",
    "        clear_output(wait=True)\n",
    "        plt.close(fig1)\n",
    "        display(ax1.figure)\n",
    "    with std_out:\n",
    "        clear_output(wait=True)\n",
    "        plt.close(fig2)      \n",
    "        display(ax2.figure)\n",
    "        \n",
    "\n",
    "button.on_click(on_click_plot)"
   ]
  },
  {
   "cell_type": "code",
   "execution_count": null,
   "metadata": {},
   "outputs": [],
   "source": []
  },
  {
   "cell_type": "code",
   "execution_count": null,
   "metadata": {},
   "outputs": [],
   "source": []
  }
 ],
 "metadata": {
  "kernelspec": {
   "display_name": "Python 3",
   "language": "python",
   "name": "python3"
  },
  "language_info": {
   "codemirror_mode": {
    "name": "ipython",
    "version": 3
   },
   "file_extension": ".py",
   "mimetype": "text/x-python",
   "name": "python",
   "nbconvert_exporter": "python",
   "pygments_lexer": "ipython3",
   "version": "3.6.5"
  }
 },
 "nbformat": 4,
 "nbformat_minor": 2
}
